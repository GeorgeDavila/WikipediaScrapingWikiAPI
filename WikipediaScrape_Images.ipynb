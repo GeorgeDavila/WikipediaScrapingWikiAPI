{
  "nbformat": 4,
  "nbformat_minor": 0,
  "metadata": {
    "colab": {
      "provenance": []
    },
    "kernelspec": {
      "name": "python3",
      "display_name": "Python 3"
    }
  },
  "cells": [
    {
      "cell_type": "markdown",
      "metadata": {
        "id": "wjN2Fu6oMMi0"
      },
      "source": [
        "Playing with the Python wrapper for wikipedia detailed here https://github.com/goldsmith/Wikipedia\n",
        "\n",
        "Do note that that github pages uses python 2 examples, we use python 3 here (i set the colab to python 3 by default but versions can be changed somewhere in colab's options)\n",
        "\n",
        "Find the Docs for the API here:   https://wikipedia.readthedocs.io/en/latest/"
      ]
    },
    {
      "cell_type": "code",
      "metadata": {
        "id": "kz207S8eL5Yq",
        "colab": {
          "base_uri": "https://localhost:8080/"
        },
        "outputId": "1fddb760-3cd1-43a3-ddfa-4b0ab8c1167a"
      },
      "source": [
        "!pip install wikipedia -q"
      ],
      "execution_count": 1,
      "outputs": [
        {
          "output_type": "stream",
          "name": "stdout",
          "text": [
            "Collecting wikipedia\n",
            "  Downloading wikipedia-1.4.0.tar.gz (27 kB)\n",
            "  Preparing metadata (setup.py) ... \u001b[?25l\u001b[?25hdone\n",
            "Requirement already satisfied: beautifulsoup4 in /usr/local/lib/python3.10/dist-packages (from wikipedia) (4.11.2)\n",
            "Requirement already satisfied: requests<3.0.0,>=2.0.0 in /usr/local/lib/python3.10/dist-packages (from wikipedia) (2.31.0)\n",
            "Requirement already satisfied: charset-normalizer<4,>=2 in /usr/local/lib/python3.10/dist-packages (from requests<3.0.0,>=2.0.0->wikipedia) (3.3.2)\n",
            "Requirement already satisfied: idna<4,>=2.5 in /usr/local/lib/python3.10/dist-packages (from requests<3.0.0,>=2.0.0->wikipedia) (3.6)\n",
            "Requirement already satisfied: urllib3<3,>=1.21.1 in /usr/local/lib/python3.10/dist-packages (from requests<3.0.0,>=2.0.0->wikipedia) (2.0.7)\n",
            "Requirement already satisfied: certifi>=2017.4.17 in /usr/local/lib/python3.10/dist-packages (from requests<3.0.0,>=2.0.0->wikipedia) (2023.11.17)\n",
            "Requirement already satisfied: soupsieve>1.2 in /usr/local/lib/python3.10/dist-packages (from beautifulsoup4->wikipedia) (2.5)\n",
            "Building wheels for collected packages: wikipedia\n",
            "  Building wheel for wikipedia (setup.py) ... \u001b[?25l\u001b[?25hdone\n",
            "  Created wheel for wikipedia: filename=wikipedia-1.4.0-py3-none-any.whl size=11678 sha256=b22fdeabb0932572bf5530d776e921e92c5d54163c27305dab60e1ceb3dc47ce\n",
            "  Stored in directory: /root/.cache/pip/wheels/5e/b6/c5/93f3dec388ae76edc830cb42901bb0232504dfc0df02fc50de\n",
            "Successfully built wikipedia\n",
            "Installing collected packages: wikipedia\n",
            "Successfully installed wikipedia-1.4.0\n"
          ]
        }
      ]
    },
    {
      "cell_type": "markdown",
      "metadata": {
        "id": "AG1oxMlw-a66"
      },
      "source": [
        "#Scraping page for all images"
      ]
    },
    {
      "cell_type": "markdown",
      "metadata": {
        "id": "yWAxB20W-bAk"
      },
      "source": [
        "https://en.wikipedia.org/wiki/List_of_paintings_by_Georges_Seurat\n",
        "\n",
        "https://stackoverflow.com/questions/30595918/is-there-any-api-to-get-image-from-wiki-page"
      ]
    },
    {
      "cell_type": "code",
      "metadata": {
        "id": "6GbLDRyA9giz"
      },
      "source": [
        "import wikipedia as wiki\n",
        "import os\n",
        "from PIL import Image\n",
        "import urllib.request\n",
        "import time\n",
        "import shutil\n",
        "\n",
        "def saveAllImages(pageName):\n",
        "  os.system(f\"mkdir {pageName}_images/\")\n",
        "  wikipage0 = wiki.page(pageName) #Note that the earlier list was plural listS this is a singular list\n",
        "  allImageURLsList = wikipage0.images\n",
        "\n",
        "  print(allImageURLsList)\n",
        "\n",
        "  counter = 0\n",
        "  for i in allImageURLsList:\n",
        "    urllib.request.urlretrieve( i , f\"{pageName}_images/{pageName}_{counter}.png\" )\n",
        "\n",
        "    print(f\"Retrieved image {counter}: {i}\")\n",
        "    counter += 1\n",
        "\n",
        "    time.sleep(2)\n",
        "\n",
        "  print(\"================ DONE - SAVING TO ZIP ================\")\n",
        "  shutil.make_archive(f\"{pageName}_images_zip\", 'zip', f\"{pageName}_images\")\n",
        "  shutil.rmtree(f\"{pageName}_images\")"
      ],
      "execution_count": 19,
      "outputs": []
    },
    {
      "cell_type": "code",
      "source": [
        "\n",
        "listOfPages = [\n",
        "    \"List_of_paintings_by_Claude_Monet\",\n",
        "    \"List_of_paintings_by_Caravaggio\",\n",
        "    \"List_of_paintings_by_Edward_Burne-Jones\",\n",
        "    \"List_of_paintings_by_Amrita_Sher-Gil\",\n",
        "    \"List_of_paintings_by_Pierre-Auguste_Renoir\",\n",
        "    \"List_of_paintings_by_Rembrandt\",\n",
        "    \"List_of_paintings_by_Johannes_Vermeer\",\n",
        "    \"List_of_paintings_by_Gustav_Klimt\",\n",
        "    \"List_of_paintings_by_Albrecht_Dürer\",\n",
        "    \"List_of_paintings_by_Raphael\",\n",
        "    \"List_of_paintings_by_Sandro_Botticelli\",\n",
        "    \"List_of_paintings_by_Hieronymus_Bosch\",\n",
        "    \"List_of_most_expensive_paintings\",\n",
        "    \"List_of_paintings_by_Édouard_Manet\",\n",
        "    \"List_of_paintings_by_Paul_Gauguin\",\n",
        "    \"List_of_paintings_by_Edvard_Munch\",\n",
        "    \"List_of_paintings_by_Wassily_Kandinsky\",\n",
        "    \"List_of_paintings_by_Jacques-Louis_David\",\n",
        "    \"List_of_paintings_by_Pieter_Bruegel_the_Elder\",\n",
        "    \"List_of_paintings_by_Frida_Kahlo\",\n",
        "    \"List_of_paintings_by_Paul_Cézanne\",\n",
        "    \"List_of_works_by_Leonardo_da_Vinci\",\n",
        "    \"List_of_works_by_Salvador_Dalí\",\n",
        "    \"List_of_stolen_paintings\",\n",
        "    \"List_of_paintings_by_Nicolas_Poussin\"\n",
        "    ]\n",
        "\n",
        "for kk in listOfPages:\n",
        "  saveAllImages(kk)"
      ],
      "metadata": {
        "id": "CrwIm7PrfV2C"
      },
      "execution_count": null,
      "outputs": []
    }
  ]
}